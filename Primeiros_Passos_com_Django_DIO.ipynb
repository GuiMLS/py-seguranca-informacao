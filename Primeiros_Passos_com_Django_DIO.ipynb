{
  "nbformat": 4,
  "nbformat_minor": 0,
  "metadata": {
    "colab": {
      "provenance": []
    },
    "kernelspec": {
      "name": "python3",
      "display_name": "Python 3"
    },
    "language_info": {
      "name": "python"
    }
  },
  "cells": [
    {
      "cell_type": "code",
      "execution_count": 1,
      "metadata": {
        "colab": {
          "base_uri": "https://localhost:8080/"
        },
        "id": "cvGIKeHjqdtl",
        "outputId": "281b5efe-5afa-4ee7-b0e2-b96c3c8e93c6"
      },
      "outputs": [
        {
          "output_type": "stream",
          "name": "stdout",
          "text": [
            "Looking in indexes: https://pypi.org/simple, https://us-python.pkg.dev/colab-wheels/public/simple/\n",
            "Collecting django\n",
            "  Downloading Django-4.1.7-py3-none-any.whl (8.1 MB)\n",
            "\u001b[2K     \u001b[90m━━━━━━━━━━━━━━━━━━━━━━━━━━━━━━━━━━━━━━━━\u001b[0m \u001b[32m8.1/8.1 MB\u001b[0m \u001b[31m31.9 MB/s\u001b[0m eta \u001b[36m0:00:00\u001b[0m\n",
            "\u001b[?25hCollecting asgiref<4,>=3.5.2\n",
            "  Downloading asgiref-3.6.0-py3-none-any.whl (23 kB)\n",
            "Requirement already satisfied: sqlparse>=0.2.2 in /usr/local/lib/python3.9/dist-packages (from django) (0.4.3)\n",
            "Installing collected packages: asgiref, django\n",
            "Successfully installed asgiref-3.6.0 django-4.1.7\n"
          ]
        }
      ],
      "source": [
        "!pip install django"
      ]
    },
    {
      "cell_type": "code",
      "source": [
        "!django-admin startproject portfolio"
      ],
      "metadata": {
        "id": "zqsJBccrqlk1"
      },
      "execution_count": 2,
      "outputs": []
    },
    {
      "cell_type": "code",
      "source": [
        "%cd portfolio/"
      ],
      "metadata": {
        "colab": {
          "base_uri": "https://localhost:8080/"
        },
        "id": "N4lmzpK5ql51",
        "outputId": "ef1c8359-62c5-4e5d-877f-4d0f82921cc2"
      },
      "execution_count": 3,
      "outputs": [
        {
          "output_type": "stream",
          "name": "stdout",
          "text": [
            "/content/portfolio\n"
          ]
        }
      ]
    },
    {
      "cell_type": "code",
      "source": [
        "from google.colab.output import eval_js\n",
        "print(eval_js(\"google.colab.kernel.proxyPort(8000)\"))"
      ],
      "metadata": {
        "colab": {
          "base_uri": "https://localhost:8080/",
          "height": 34
        },
        "id": "KK-_-dPKqmMt",
        "outputId": "176e1e76-8fe7-4bb1-f890-4604701524db"
      },
      "execution_count": 17,
      "outputs": [
        {
          "output_type": "stream",
          "name": "stdout",
          "text": [
            "https://cl5mzv3dxfu-496ff2e9c6d22116-8000-colab.googleusercontent.com/\n"
          ]
        }
      ]
    },
    {
      "cell_type": "code",
      "source": [
        "ALLOWED_HOSTS = ['127.0.0.1','localhost','colab.research.google.com']"
      ],
      "metadata": {
        "id": "tEWr_7YLqmxt"
      },
      "execution_count": 15,
      "outputs": []
    },
    {
      "cell_type": "code",
      "source": [
        "ALLOWED_HOSTS = ['127.0.0.1','localhost','colab.research.google.com']\n",
        "print(f\"Allowed Hosts: {ALLOWED_HOSTS}\")\n",
        "!python manage.py runserver 8000"
      ],
      "metadata": {
        "colab": {
          "base_uri": "https://localhost:8080/"
        },
        "id": "wMvrbAC5qnCN",
        "outputId": "63f4ef8c-cd2c-42d4-9a34-fc4f2af28941"
      },
      "execution_count": 20,
      "outputs": [
        {
          "output_type": "stream",
          "name": "stdout",
          "text": [
            "Allowed Hosts: ['127.0.0.1', 'localhost', 'colab.research.google.com']\n",
            "Watching for file changes with StatReloader\n",
            "Performing system checks...\n",
            "\n",
            "System check identified no issues (0 silenced).\n",
            "\u001b[31m\n",
            "You have 18 unapplied migration(s). Your project may not work properly until you apply the migrations for app(s): admin, auth, contenttypes, sessions.\u001b[0m\n",
            "\u001b[31mRun 'python manage.py migrate' to apply them.\u001b[0m\n",
            "March 09, 2023 - 19:00:51\n",
            "Django version 4.1.7, using settings 'portfolio.settings'\n",
            "Starting development server at http://127.0.0.1:8000/\n",
            "Quit the server with CONTROL-C.\n",
            "[09/Mar/2023 19:00:52] \u001b[m\"GET / HTTP/1.1\" 200 10681\u001b[0m\n",
            "[09/Mar/2023 19:00:53] \u001b[m\"GET /static/admin/css/fonts.css HTTP/1.1\" 200 423\u001b[0m\n",
            "[09/Mar/2023 19:00:53] \u001b[m\"GET /static/admin/fonts/Roboto-Bold-webfont.woff HTTP/1.1\" 200 86184\u001b[0m\n",
            "[09/Mar/2023 19:00:53] \u001b[m\"GET /static/admin/fonts/Roboto-Light-webfont.woff HTTP/1.1\" 200 85692\u001b[0m\n",
            "[09/Mar/2023 19:00:53] \u001b[m\"GET /static/admin/fonts/Roboto-Regular-webfont.woff HTTP/1.1\" 200 85876\u001b[0m\n",
            "Not Found: /favicon.ico\n",
            "[09/Mar/2023 19:00:53] \u001b[33m\"GET /favicon.ico HTTP/1.1\" 404 2124\u001b[0m\n"
          ]
        }
      ]
    }
  ]
}